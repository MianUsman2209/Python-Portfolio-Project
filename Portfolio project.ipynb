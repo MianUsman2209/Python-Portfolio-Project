{
 "cells": [
  {
   "cell_type": "code",
   "execution_count": 6,
   "id": "1ec0f712",
   "metadata": {},
   "outputs": [],
   "source": [
    "import pandas as pd\n",
    "import matplotlib.pyplot as plt\n",
    "from datetime import datetime\n",
    "\n",
    "# Display settings for pandas DataFrame\n",
    "pd.set_option('display.max_columns', None)\n",
    "pd.set_option('display.max_rows', None)\n"
   ]
  },
  {
   "cell_type": "code",
   "execution_count": 7,
   "id": "975fd911",
   "metadata": {},
   "outputs": [],
   "source": [
    "# Path to the CSV file\n",
    "TRANSACTIONS_FILE = 'transactions.csv'\n",
    "\n",
    "def add_transaction(date, description, amount, category):\n",
    "    try:\n",
    "        df = pd.read_csv(TRANSACTIONS_FILE)\n",
    "    except FileNotFoundError:\n",
    "        df = pd.DataFrame(columns=['date', 'description', 'amount', 'category'])\n",
    "\n",
    "    new_transaction = pd.DataFrame({\n",
    "        'date': [date],\n",
    "        'description': [description],\n",
    "        'amount': [amount],\n",
    "        'category': [category]\n",
    "    })\n",
    "    \n",
    "    df = pd.concat([df, new_transaction], ignore_index=True)\n",
    "    df.to_csv(TRANSACTIONS_FILE, index=False)\n",
    "\n",
    "def view_transactions():\n",
    "    try:\n",
    "        df = pd.read_csv(TRANSACTIONS_FILE)\n",
    "        display(df)\n",
    "    except FileNotFoundError:\n",
    "        print(\"No transactions found. Add some transactions first.\")\n",
    "\n",
    "def generate_summary():\n",
    "    try:\n",
    "        df = pd.read_csv(TRANSACTIONS_FILE)\n",
    "        total_income = df[df['amount'] > 0]['amount'].sum()\n",
    "        total_expense = df[df['amount'] < 0]['amount'].sum()\n",
    "        print(f\"Total Income: ${total_income}\")\n",
    "        print(f\"Total Expense: ${total_expense}\")\n",
    "    except FileNotFoundError:\n",
    "        print(\"No transactions found. Add some transactions first.\")\n",
    "\n",
    "def generate_category_summary():\n",
    "    try:\n",
    "        df = pd.read_csv(TRANSACTIONS_FILE)\n",
    "        summary = df.groupby('category')['amount'].sum()\n",
    "        display(summary)\n",
    "    except FileNotFoundError:\n",
    "        print(\"No transactions found. Add some transactions first.\")\n",
    "\n",
    "def generate_monthly_summary():\n",
    "    try:\n",
    "        df = read_csv(TRANSACTIONS_FILE)\n",
    "        df['date'] = pd.to_datetime(df['date'])\n",
    "        df['month'] = df['date'].dt.to_period('M')\n",
    "        summary = df.groupby('month')['amount'].sum()\n",
    "        display(summary)\n",
    "        summary.plot(kind='bar')\n",
    "        plt.title('Monthly Summary')\n",
    "        plt.xlabel('Month')\n",
    "        plt.ylabel('Amount')\n",
    "        plt.show()\n",
    "    except FileNotFoundError:\n",
    "        print(\"No transactions found. Add some transactions first.\")\n"
   ]
  },
  {
   "cell_type": "code",
   "execution_count": 8,
   "id": "a62dd0d0",
   "metadata": {},
   "outputs": [
    {
     "name": "stdout",
     "output_type": "stream",
     "text": [
      "Enter date (YYYY-MM-DD): 2023-10-1\n",
      "Enter description: less income\n",
      "Enter amount: 150000\n",
      "Enter category: 1\n",
      "Transaction added successfully!\n"
     ]
    }
   ],
   "source": [
    "# Adding a new transaction\n",
    "date = input(\"Enter date (YYYY-MM-DD): \")\n",
    "description = input(\"Enter description: \")\n",
    "amount = float(input(\"Enter amount: \"))\n",
    "category = input(\"Enter category: \")\n",
    "\n",
    "add_transaction(date, description, amount, category)\n",
    "print(\"Transaction added successfully!\")\n"
   ]
  },
  {
   "cell_type": "code",
   "execution_count": 9,
   "id": "48a59ab5",
   "metadata": {},
   "outputs": [
    {
     "data": {
      "text/html": [
       "<div>\n",
       "<style scoped>\n",
       "    .dataframe tbody tr th:only-of-type {\n",
       "        vertical-align: middle;\n",
       "    }\n",
       "\n",
       "    .dataframe tbody tr th {\n",
       "        vertical-align: top;\n",
       "    }\n",
       "\n",
       "    .dataframe thead th {\n",
       "        text-align: right;\n",
       "    }\n",
       "</style>\n",
       "<table border=\"1\" class=\"dataframe\">\n",
       "  <thead>\n",
       "    <tr style=\"text-align: right;\">\n",
       "      <th></th>\n",
       "      <th>date</th>\n",
       "      <th>description</th>\n",
       "      <th>amount</th>\n",
       "      <th>category</th>\n",
       "    </tr>\n",
       "  </thead>\n",
       "  <tbody>\n",
       "    <tr>\n",
       "      <th>0</th>\n",
       "      <td>2023-10-1</td>\n",
       "      <td>less income</td>\n",
       "      <td>150000.0</td>\n",
       "      <td>1</td>\n",
       "    </tr>\n",
       "  </tbody>\n",
       "</table>\n",
       "</div>"
      ],
      "text/plain": [
       "        date  description    amount  category\n",
       "0  2023-10-1  less income  150000.0         1"
      ]
     },
     "metadata": {},
     "output_type": "display_data"
    }
   ],
   "source": [
    "# View all transactions\n",
    "view_transactions()\n"
   ]
  },
  {
   "cell_type": "code",
   "execution_count": 10,
   "id": "83876544",
   "metadata": {},
   "outputs": [
    {
     "name": "stdout",
     "output_type": "stream",
     "text": [
      "Total Income: $150000.0\n",
      "Total Expense: $0.0\n"
     ]
    }
   ],
   "source": [
    "# Generate summary report\n",
    "generate_summary()\n"
   ]
  },
  {
   "cell_type": "code",
   "execution_count": 11,
   "id": "7eef5d5b",
   "metadata": {},
   "outputs": [
    {
     "data": {
      "text/plain": [
       "category\n",
       "1    150000.0\n",
       "Name: amount, dtype: float64"
      ]
     },
     "metadata": {},
     "output_type": "display_data"
    }
   ],
   "source": [
    "# Generate category summary report\n",
    "generate_category_summary()\n"
   ]
  },
  {
   "cell_type": "code",
   "execution_count": null,
   "id": "26d2cd50",
   "metadata": {},
   "outputs": [],
   "source": [
    "\n"
   ]
  },
  {
   "cell_type": "code",
   "execution_count": null,
   "id": "162ad987",
   "metadata": {},
   "outputs": [],
   "source": []
  },
  {
   "cell_type": "code",
   "execution_count": null,
   "id": "1a5cd979",
   "metadata": {},
   "outputs": [],
   "source": []
  },
  {
   "cell_type": "code",
   "execution_count": null,
   "id": "47e401dc",
   "metadata": {},
   "outputs": [],
   "source": []
  }
 ],
 "metadata": {
  "kernelspec": {
   "display_name": "Python 3 (ipykernel)",
   "language": "python",
   "name": "python3"
  },
  "language_info": {
   "codemirror_mode": {
    "name": "ipython",
    "version": 3
   },
   "file_extension": ".py",
   "mimetype": "text/x-python",
   "name": "python",
   "nbconvert_exporter": "python",
   "pygments_lexer": "ipython3",
   "version": "3.9.12"
  }
 },
 "nbformat": 4,
 "nbformat_minor": 5
}
