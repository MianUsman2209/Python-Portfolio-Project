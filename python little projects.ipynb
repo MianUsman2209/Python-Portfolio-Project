{
 "cells": [
  {
   "cell_type": "code",
   "execution_count": 1,
   "id": "2ad177a7",
   "metadata": {},
   "outputs": [
    {
     "name": "stdout",
     "output_type": "stream",
     "text": [
      "Age: 25\n",
      "Name: John\n",
      "Student: True\n",
      "Age after adding 25: 50\n",
      "Name after concatenation: John Smith\n",
      "Negation of 'is_student': False\n"
     ]
    }
   ],
   "source": [
    "# Task 1: Variables and Data Types\n",
    "# a)\n",
    "age = 25  # Integer variable storing age\n",
    "name = \"John\"  # String variable storing name\n",
    "is_student = True  # Boolean variable to check if student\n",
    "print(\"Age:\", age)\n",
    "print(\"Name:\", name)\n",
    "print(\"Student:\", is_student)\n",
    "\n",
    "# b)\n",
    "age += 25  # Add 25 to age\n",
    "name += \" Smith\"  # Concatenate name with \"Smith\"\n",
    "is_student = not is_student  # Negate the boolean variable\n",
    "print(\"Age after adding 25:\", age)\n",
    "print(\"Name after concatenation:\", name)\n",
    "print(\"Negation of 'is_student':\", is_student)\n"
   ]
  },
  {
   "cell_type": "code",
   "execution_count": null,
   "id": "a458527a",
   "metadata": {},
   "outputs": [],
   "source": [
    "# second task 2\n",
    "# Task 2: String Manipulation\n",
    "# a)\n",
    "sentence = \"Python is a powerful programming language.\"\n",
    "print(\"Sentence:\", sentence)\n",
    "\n",
    "# b)\n",
    "char_count = len(sentence)\n",
    "print(\"Number of characters in sentence:\", char_count)\n",
    "\n",
    "# c)\n",
    "is_python_present = \"Python\" in sentence\n",
    "print(\"Is 'Python' present in sentence:\", is_python_present)\n",
    "\n",
    "# d)\n",
    "updated_sentence = sentence.replace(\"powerful\", \"versatile\")\n",
    "print(\"Updated sentence:\", updated_sentence)\n",
    "\n",
    "# e)\n",
    "word_list = sentence.split()\n",
    "print(\"List of words in sentence:\", word_list)"
   ]
  },
  {
   "cell_type": "code",
   "execution_count": 2,
   "id": "3ea2aaf7",
   "metadata": {},
   "outputs": [
    {
     "name": "stdout",
     "output_type": "stream",
     "text": [
      "Area of the rectangle: 17.875\n",
      "Temperature in Fahrenheit: 86.0\n",
      "Area of the circle: 78.53975\n"
     ]
    }
   ],
   "source": [
    "# Task no 3\n",
    "# Task 3: Expressions and Operators\n",
    "# a)\n",
    "width = 5.5\n",
    "height = 3.25\n",
    "area = width * height\n",
    "print(\"Area of the rectangle:\", area)\n",
    "\n",
    "# b)\n",
    "celsius_temp = 30\n",
    "fahrenheit_temp = (celsius_temp * 9/5) + 32\n",
    "print(\"Temperature in Fahrenheit:\", fahrenheit_temp)\n",
    "\n",
    "# c)\n",
    "radius = 5\n",
    "area_circle = 3.14159 * radius ** 2\n",
    "print(\"Area of the circle:\", area_circle)"
   ]
  },
  {
   "cell_type": "code",
   "execution_count": 3,
   "id": "114b85f8",
   "metadata": {},
   "outputs": [
    {
     "name": "stdout",
     "output_type": "stream",
     "text": [
      "Fruits list: ['apple', 'banana', 'orange', 'grape', 'kiwi']\n",
      "Vegetables list: ['carrot', 'lettuce', 'tomato', 'broccoli', 'spinach']\n",
      "Groceries list (concatenated): ['apple', 'banana', 'orange', 'grape', 'kiwi', 'carrot', 'lettuce', 'tomato', 'broccoli', 'spinach']\n",
      "Groceries list (sorted): ['apple', 'banana', 'broccoli', 'carrot', 'grape', 'kiwi', 'lettuce', 'orange', 'spinach', 'tomato']\n",
      "Fruits list after removing 'banana': ['apple', 'orange', 'grape', 'kiwi']\n",
      "Colors tuple: ('red', 'green', 'blue')\n",
      "Second element of colors tuple: green\n",
      "Combined tuple: ('January', 'February', 'March', 'red', 'green', 'blue')\n"
     ]
    }
   ],
   "source": [
    "#Task no 4\n",
    "# Task 4: Introduction to Data Structures\n",
    "# List\n",
    "# a)\n",
    "fruits = [\"apple\", \"banana\", \"orange\", \"grape\", \"kiwi\"]\n",
    "print(\"Fruits list:\", fruits)\n",
    "\n",
    "# b)\n",
    "vegetables = [\"carrot\", \"lettuce\", \"tomato\", \"broccoli\", \"spinach\"]\n",
    "print(\"Vegetables list:\", vegetables)\n",
    "\n",
    "# c)\n",
    "groceries = fruits + vegetables\n",
    "print(\"Groceries list (concatenated):\", groceries)\n",
    "\n",
    "# d)\n",
    "groceries.sort()\n",
    "print(\"Groceries list (sorted):\", groceries)\n",
    "\n",
    "# e)\n",
    "fruits.remove(\"banana\")\n",
    "print(\"Fruits list after removing 'banana':\", fruits)\n",
    "\n",
    "# Tuple\n",
    "# a)\n",
    "colors = (\"red\", \"green\", \"blue\")\n",
    "print(\"Colors tuple:\", colors)\n",
    "\n",
    "# b)\n",
    "print(\"Second element of colors tuple:\", colors[1])\n",
    "\n",
    "# c) (Assuming 'months' tuple is defined somewhere)\n",
    "# Concatenating two tuples is not directly possible, as tuples are immutable.\n",
    "# We can convert both tuples to lists, concatenate them, and then convert back to a tuple.\n",
    "months = (\"January\", \"February\", \"March\")\n",
    "combined_tuple = tuple(list(months) + list(colors))\n",
    "print(\"Combined tuple:\", combined_tuple)"
   ]
  },
  {
   "cell_type": "code",
   "execution_count": null,
   "id": "dfa889f4",
   "metadata": {},
   "outputs": [],
   "source": []
  },
  {
   "cell_type": "code",
   "execution_count": null,
   "id": "0de0d9a7",
   "metadata": {},
   "outputs": [],
   "source": []
  }
 ],
 "metadata": {
  "kernelspec": {
   "display_name": "Python 3 (ipykernel)",
   "language": "python",
   "name": "python3"
  },
  "language_info": {
   "codemirror_mode": {
    "name": "ipython",
    "version": 3
   },
   "file_extension": ".py",
   "mimetype": "text/x-python",
   "name": "python",
   "nbconvert_exporter": "python",
   "pygments_lexer": "ipython3",
   "version": "3.9.12"
  }
 },
 "nbformat": 4,
 "nbformat_minor": 5
}
